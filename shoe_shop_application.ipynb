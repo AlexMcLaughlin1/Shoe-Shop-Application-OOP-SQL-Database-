{
  "nbformat": 4,
  "nbformat_minor": 0,
  "metadata": {
    "colab": {
      "name": "Copy of Untitled33.ipynb",
      "provenance": [],
      "authorship_tag": "ABX9TyOJawztx0uWv5X84eMX5e5v",
      "include_colab_link": true
    },
    "kernelspec": {
      "name": "python3",
      "display_name": "Python 3"
    },
    "language_info": {
      "name": "python"
    }
  },
  "cells": [
    {
      "cell_type": "markdown",
      "metadata": {
        "id": "view-in-github",
        "colab_type": "text"
      },
      "source": [
        "<a href=\"https://colab.research.google.com/github/AlexMcLaughlin1/Shoe-Shop-Application-OOP-SQL-Database-/blob/main/shoe_shop_application.ipynb\" target=\"_parent\"><img src=\"https://colab.research.google.com/assets/colab-badge.svg\" alt=\"Open In Colab\"/></a>"
      ]
    },
    {
      "cell_type": "code",
      "source": [
        "import sqlite3\n",
        "\n",
        "connection = sqlite3.connect('shoe_shop.db')\n",
        "cursor = connection.cursor()\n",
        "cursor.execute('''CREATE TABLE IF NOT EXISTS Customers\n",
        "               (\n",
        "                 unique_id int,\n",
        "                 username text(100),\n",
        "                 password text(25),\n",
        "                 delivery_address text(200),\n",
        "                 contact_info int,\n",
        "                 bank_detail int, \n",
        "                 max_returns_per_month int\n",
        "                 )             \n",
        "               '''\n",
        "               )\n",
        "connection.commit()\n",
        "connection.close()"
      ],
      "metadata": {
        "id": "rtEFkxbcWa42"
      },
      "execution_count": null,
      "outputs": []
    },
    {
      "cell_type": "code",
      "source": [
        "connection = sqlite3.connect('shoe_shop.db')\n",
        "cursor = connection.cursor()\n",
        "cursor.execute('''CREATE TABLE IF NOT EXISTS Stock\n",
        "               (\n",
        "                 shoe text(100),\n",
        "                 stock int\n",
        "                 )             \n",
        "               '''\n",
        "               )\n",
        "connection.commit()\n",
        "connection.close()"
      ],
      "metadata": {
        "id": "RjNyzLBQWt5V"
      },
      "execution_count": null,
      "outputs": []
    },
    {
      "cell_type": "code",
      "source": [
        "connection = sqlite3.connect('shoe_shop.db')\n",
        "cursor = connection.cursor()\n",
        "cursor.execute('''CREATE TABLE IF NOT EXISTS Orders\n",
        "               (\n",
        "                 Order_Number text(20),\n",
        "                 Customer_ID int,\n",
        "                 Order_Date DATETIME,\n",
        "                 Delivery_Address text(200),\n",
        "                 Latest_Delivery_Date DATETIME,\n",
        "                 Product text(100),\n",
        "                 Quantity int,\n",
        "                 Free_Return_Date text(100),\n",
        "                 Returned int ,\n",
        "                 Returned_Date DATETIME\n",
        "                 )             \n",
        "                '''\n",
        "               )\n",
        "connection.commit()\n",
        "connection.close()"
      ],
      "metadata": {
        "id": "qIRro_6IOaOb"
      },
      "execution_count": null,
      "outputs": []
    },
    {
      "cell_type": "code",
      "source": [
        "class Shoes:\n",
        "\n",
        "  def __init__(self, name, price, stock=100):\n",
        "    self.name = name\n",
        "    self.stock = stock\n",
        "    self.price = price\n",
        "    self.add_to_db()\n",
        "\n",
        "  def add_to_db(self):\n",
        "    shoe_info = (self.name, self.stock)\n",
        "    connection = sqlite3.connect('shoe_shop.db')\n",
        "    cursor = connection.cursor()\n",
        "    cursor.execute('''\n",
        "      INSERT INTO Stock\n",
        "      VALUES (?, ?)\n",
        "    ''',\n",
        "    shoe_info\n",
        "    )\n",
        "    connection.commit()\n",
        "    connection.close()\n",
        "\n",
        "  def check_stock(self):\n",
        "    connection = sqlite3.connect('shoe_shop.db')\n",
        "    cursor = connection.cursor()\n",
        "    cursor.execute('''\n",
        "      SELECT stock\n",
        "      FROM Stock\n",
        "      WHERE shoe = ?\n",
        "    ''',\n",
        "    (self.name, )\n",
        "    )\n",
        "    return cursor.fetchone()[0]\n",
        "  \n",
        "  def update_stock_from_order(self, quantity):\n",
        "    connection = sqlite3.connect('shoe_shop.db')\n",
        "    cursor = connection.cursor()\n",
        "    cursor.execute('''\n",
        "      SELECT stock\n",
        "      FROM Stock\n",
        "      WHERE shoe = ?\n",
        "    ''',\n",
        "    (self.name, )\n",
        "    )\n",
        "    current_stock = cursor.fetchone()[0]\n",
        "\n",
        "\n",
        "    cursor.execute('''\n",
        "      UPDATE Stock\n",
        "      SET stock = ?\n",
        "      WHERE shoe = ?\n",
        "    ''',\n",
        "    (current_stock - quantity, self.name)\n",
        "    )\n",
        "    self.stock = current_stock - quantity ### \n",
        "    connection.commit()\n",
        "    connection.close()\n",
        "\n",
        "  def new_stock(self, quantity):\n",
        "    connection = sqlite3.connect('shoe_shop.db')\n",
        "    cursor = connection.cursor()\n",
        "    cursor.execute('''\n",
        "      SELECT stock\n",
        "      FROM Stock\n",
        "      WHERE shoe = ?\n",
        "    ''',\n",
        "    (self.name, )\n",
        "    )\n",
        "    current_stock = cursor.fetchone()[0]\n",
        "\n",
        "\n",
        "    cursor.execute('''\n",
        "      UPDATE Stock\n",
        "      SET stock = ?\n",
        "      WHERE shoe = ?\n",
        "    ''',\n",
        "    (current_stock + quantity, self.name)\n",
        "    )\n",
        "    self.stock = current_stock + quantity\n",
        "    connection.commit()\n",
        "    connection.close()"
      ],
      "metadata": {
        "id": "7dv47c67ASpc"
      },
      "execution_count": null,
      "outputs": []
    },
    {
      "cell_type": "code",
      "source": [
        "sandles = Shoes('sandles', 20)\n",
        "boaters = Shoes('boaters', 25)\n",
        "boots = Shoes('boots', 40)\n",
        "sliders = Shoes('sliders', 15, stock=50)\n",
        "stilettos = Shoes('stilettos', 36)\n",
        "clogs = Shoes('clogs', 23)\n",
        "slippers = Shoes('slippers', 12, stock=200)\n",
        "trainers = Shoes('trainers', 35)\n",
        "moccasins = Shoes('moccasins', 10)\n",
        "brogues = Shoes('brogues', 20)"
      ],
      "metadata": {
        "id": "hi56hdALAlGd"
      },
      "execution_count": null,
      "outputs": []
    },
    {
      "cell_type": "code",
      "source": [
        "import itertools\n",
        "ordernumiter = itertools.count()"
      ],
      "metadata": {
        "id": "X2L3Q9oXPWJL"
      },
      "execution_count": null,
      "outputs": []
    },
    {
      "cell_type": "code",
      "source": [
        "from datetime import datetime, timedelta\n",
        "from dateutil.relativedelta import relativedelta\n",
        "import pandas as pd\n",
        "\n",
        "class Customer(object):\n",
        "  id_iter = itertools.count()  # creates unique id by counting numerically from 0 each time a new customer registers\n",
        "  def __init__(self, username, password, delivery_address, contact_info, bank_detail):\n",
        "    self.username = username\n",
        "    self.password = password\n",
        "    self.delivery_address = delivery_address\n",
        "    self.contact_info = contact_info\n",
        "    self.bank_detail = bank_detail\n",
        "    self.unique_id = next(Customer.id_iter)\n",
        "    if self.check_already_registered():\n",
        "      self.add_to_db()\n",
        "    self.loggedin = False\n",
        "    \n",
        "\n",
        "\n",
        "  def add_to_db(self):\n",
        "    cust_info = (self.unique_id, self.username, self.password, self.delivery_address, self.contact_info, self.bank_detail, 2)\n",
        "    connection = sqlite3.connect('shoe_shop.db')\n",
        "    cursor = connection.cursor()\n",
        "    cursor.execute('''\n",
        "      INSERT INTO Customers\n",
        "      VALUES (?, ?, ?, ?, ?, ?, ?)\n",
        "    ''',\n",
        "    cust_info\n",
        "    )\n",
        "    connection.commit()\n",
        "    connection.close()\n",
        "\n",
        "  def check_already_registered(self):\n",
        "    connection = sqlite3.connect('shoe_shop.db')\n",
        "    cursor = connection.cursor()\n",
        "    cursor.execute('''\n",
        "      SELECT username\n",
        "      FROM Customers\n",
        "      WHERE username = ?\n",
        "    ''',\n",
        "    (self.username, )\n",
        "    )\n",
        "\n",
        "    username_created = cursor.fetchall()\n",
        "\n",
        "    if len(username_created) >= 1:\n",
        "      print('Username already registered please login.')\n",
        "    else:\n",
        "      return True\n",
        "\n",
        "\n",
        "\n",
        "  def login(self, username, password):\n",
        "    if username != self.username:\n",
        "      print('Username not recognised.')\n",
        "      return\n",
        "    else:\n",
        "      if password != self.password:\n",
        "        print('Incorrect Password Entered.')\n",
        "        return\n",
        "      else:\n",
        "        print('Login successful')\n",
        "        self.loggedin = True\n",
        "\n",
        "  def logout(self):\n",
        "    if self.loggedin:\n",
        "      print('Logout Successful')\n",
        "      self.loggedin = False\n",
        "    else:\n",
        "      print('Not logged in')\n",
        "\n",
        "\n",
        "  def search(self, shoe_type, buy=False, quantity=0):\n",
        "    if self.loggedin == True: # only logged in customers can search\n",
        "      input = shoe_type.lower()\n",
        "      regex = ['%', input, '%']\n",
        "      regex = ''.join(regex) \n",
        "      # creates regualr expression in SQL form so any shoe which containes input shoe_type will be returned\n",
        "      connection = sqlite3.connect('shoe_shop.db')\n",
        "      cursor = connection.cursor()\n",
        "\n",
        "      cursor.execute('''SELECT shoe, stock \n",
        "                        FROM stock\n",
        "                        WHERE shoe LIKE ?\n",
        "                        ''',\n",
        "                    (regex,)\n",
        "                    )\n",
        "      # Above selects all shows from stock database which contain input\n",
        "\n",
        "      shoes = cursor.fetchall()\n",
        "      for row in shoes:\n",
        "        print(row[0], '.'*(25-len(row[0])), 'stock:', row[1]) #prints all returned shoes and stock level\n",
        "\n",
        "      if buy: # shoes can also be bought from search method\n",
        "        connection = sqlite3.connect('shoe_shop.db')\n",
        "        cursor = connection.cursor()\n",
        "        cursor.execute('''\n",
        "          SELECT *\n",
        "          FROM stock\n",
        "          '''\n",
        "          ) # checks shoe_type is input as expected\n",
        "        shoes = []\n",
        "        for row in cursor.fetchall():\n",
        "          shoes.append(row[0])\n",
        "        if input in shoes:\n",
        "          if quantity == 0:\n",
        "            print('please select quantity')\n",
        "          else:\n",
        "            self.buy_shoes(shoe_type, quantity) # as long as quantity and shoe type entered correctly then calls buy_shoes method\n",
        "        else: \n",
        "          print('Please type shoe type as listed to purchase.')\n",
        "\n",
        "      connection.commit()\n",
        "      connection.close()\n",
        "    else:\n",
        "      print('Please login to account.')\n",
        "\n",
        "\n",
        "\n",
        "\n",
        "  def buy_shoes(self, shoe_type, quantity=1):\n",
        "    \n",
        "    if self.loggedin != True: #must be logged on to buy shoes\n",
        "      print('Please login.')\n",
        "      return\n",
        "    \n",
        "    else: # Next checks the shoe is entered correctly\n",
        "      connection = sqlite3.connect('shoe_shop.db')\n",
        "      cursor = connection.cursor()\n",
        "      cursor.execute('''\n",
        "        SELECT *\n",
        "        FROM stock\n",
        "        '''\n",
        "        )\n",
        "      shoes = []\n",
        "      for row in cursor.fetchall():\n",
        "        shoes.append(row[0])\n",
        "\n",
        "      if str(shoe_type).lower() not in shoes:\n",
        "        print('Please type shoe type as listed to purchase.')\n",
        "        return\n",
        "      else: \n",
        "\n",
        "        stock = globals()[shoe_type].check_stock() # checks stock of shoe\n",
        "        if stock < quantity: # if not enough stock to fulfil order then order won't be accepted\n",
        "          print('Not enough stock available.')\n",
        "          print('Max order:', stock)\n",
        "          return\n",
        "          \n",
        "        else: # if no problems with order then order will be fulfilled\n",
        "          globals()[shoe_type].update_stock_from_order(quantity) \n",
        "          order_num = ''.join(['Od', str(next(ordernumiter))]) # order number generated. This is sequntial but starts with Od as to not be confused with customer id\n",
        "          order_details = (order_num,\n",
        "                          self.unique_id, \n",
        "                          datetime.now().strftime(\"%Y-%m-%d %H:%M:%S\"), #order date generated\n",
        "                          self.delivery_address, \n",
        "                          (datetime.now() + timedelta(hours=24)).strftime(\"%Y-%m-%d %H:%M:%S\"), # latest delivery time calculated (now + 24 hours)\n",
        "                          shoe_type,\n",
        "                          quantity, \n",
        "                          (datetime.now() + timedelta(days=5)).strftime(\"%Y-%m-%d %H:%M:%S\"),  # free returns date calculated (now + 5 days)\n",
        "                          0, # order not returned\n",
        "                          'N/A' # no return date\n",
        "                          )\n",
        "          cursor.execute('''\n",
        "          INSERT INTO Orders\n",
        "          VALUES (?, ?, ?, ?, ?, ?, ?, ?, ?, ?)\n",
        "          ''',\n",
        "          order_details\n",
        "          ) # order added to Orders table in shoe_shop database\n",
        "          connection.commit()\n",
        "\n",
        "          # Bill printed for customer\n",
        "          print('Order Recieved')\n",
        "          print('')\n",
        "          print('*' *49)\n",
        "          print('*' *49)\n",
        "          print('Bill', '-'*44)\n",
        "          print('*' *49)\n",
        "          print('')\n",
        "          print('Order Number:', '.'*(34-len(order_num)), order_num)\n",
        "          print('Item:', '.'*(42-len(shoe_type)), shoe_type)\n",
        "          print('Quantity:', '.'*(38-len(str(quantity))), quantity)\n",
        "          print('Price:', '.'*(39-len(str(globals()[shoe_type].price * quantity))), '£', globals()[shoe_type].price * quantity)\n",
        "          print('*' *49)\n",
        "          print('Order to be delivered by:', ' '*3, (datetime.now() + timedelta(hours=24)).strftime(\"%Y-%m-%d %H:%M:%S\"))\n",
        "          print('Free returns avialable until:', (datetime.now() + timedelta(days=5)).strftime(\"%Y-%m-%d %H:%M:%S\"))\n",
        "          print('')\n",
        "          print('*' *49)\n",
        "          print('*' *49)\n",
        "\n",
        "\n",
        "\n",
        "\n",
        "  def return_product(self, order_num):\n",
        "    if self.loggedin != True: # must be logged into account to make return\n",
        "      print('Please login.')\n",
        "      return\n",
        "\n",
        "    else:\n",
        "      connection = sqlite3.connect('shoe_shop.db')\n",
        "      cursor = connection.cursor()\n",
        "# below counts the number of returned orders within the past month\n",
        "      cursor.execute('''\n",
        "        SELECT COUNT(*) \n",
        "        FROM Orders\n",
        "        WHERE Customer_ID = ?\n",
        "        AND Returned = 1\n",
        "        AND Returned_Date > ?      \n",
        "      ''',\n",
        "      (self.unique_id, (datetime.now() - relativedelta(months=1)).strftime(\"%Y-%m-%d %H:%M:%S\")) #calculates the date 1 month ago\n",
        "      )\n",
        "      num_returned = cursor.fetchall()[0][0]\n",
        "# below finds how many returns customer is allowed in a month\n",
        "      cursor.execute('''\n",
        "        SELECT max_returns_per_month\n",
        "        FROM Customers\n",
        "        WHERE unique_id = ?    \n",
        "      ''',\n",
        "      (self.unique_id, )\n",
        "      )\n",
        "      max_returns = cursor.fetchall()[0][0]\n",
        "# if customer has already reached the max returns within the past month, application will not allow any more returns\n",
        "      if num_returned >= max_returns: \n",
        "        print('Too many returns in past month.')\n",
        "        print('Unable to return this order.')\n",
        "        return\n",
        "      \n",
        "      else: # if max returns not reached, system checks to find order\n",
        "        cursor.execute('''\n",
        "        SELECT COUNT(*)\n",
        "        FROM Orders\n",
        "        WHERE Customer_ID = ?\n",
        "        AND Order_Number = ?    \n",
        "        ''',\n",
        "        (self.unique_id, order_num)\n",
        "        )\n",
        "\n",
        "        if cursor.fetchall()[0][0] == 0:\n",
        "          print('Unable to find order.')\n",
        "          return\n",
        "        \n",
        "        else: #if order located checks to see that product hasnt already been returned\n",
        "          cursor.execute('''\n",
        "            SELECT Returned \n",
        "            FROM Orders\n",
        "            WHERE Order_Number = ?\n",
        "            ''',\n",
        "            (order_num, ))          \n",
        "          if 1 in cursor.fetchall()[0]:\n",
        "            print('Order already returned')\n",
        "            return\n",
        "          \n",
        "          else: # if no problem with making return find details of the order and updates the stock\n",
        "            cursor.execute('''\n",
        "              SELECT Product, Quantity\n",
        "              FROM Orders\n",
        "              WHERE Order_Number = ?\n",
        "              ''',\n",
        "              (order_num, )\n",
        "            )\n",
        "            stock_back = cursor.fetchall()[0]\n",
        "            globals()[stock_back[0]].new_stock(stock_back[1])            \n",
        "          # Also updates the order table to mark that the order has been returned and lists the return date\n",
        "            cursor.execute('''\n",
        "              UPDATE Orders\n",
        "              SET Returned = 1, Returned_Date = ?\n",
        "              WHERE Customer_ID = ?\n",
        "              AND Order_Number = ?    \n",
        "              ''',\n",
        "            (datetime.now().strftime(\"%Y-%m-%d %H:%M:%S\"), self.unique_id, order_num)\n",
        "            )\n",
        "            connection.commit()\n",
        "            # Then finds the free return date from db\n",
        "            cursor.execute('''\n",
        "              SELECT Free_Return_Date\n",
        "              FROM Orders\n",
        "              WHERE Customer_ID = ?\n",
        "              AND Order_Number = ? \n",
        "              ''',\n",
        "              (self.unique_id, order_num)\n",
        "            )\n",
        "            free_return = datetime.strptime(cursor.fetchall()[0][0], \"%Y-%m-%d %H:%M:%S\")\n",
        "\n",
        "            if free_return >= datetime.now():\n",
        "              print('Return Successful!')\n",
        "              print('No charge occured as within the free returns period')\n",
        "            else:\n",
        "              print('Return Successful!')\n",
        "              print('£10 charge occured as not within the free returns period')\n",
        "\n",
        "\n",
        "  def view_all_orders(self):\n",
        "    if self.loggedin != True:\n",
        "      print('Please login.')\n",
        "      return\n",
        "\n",
        "    else:\n",
        "      table = pd.DataFrame()\n",
        "      connection = sqlite3.connect('shoe_shop.db')\n",
        "      cursor = connection.cursor()\n",
        "      cursor.execute('''\n",
        "        SELECT *\n",
        "        FROM Orders\n",
        "        WHERE Customer_ID = ?\n",
        "        ''', # view_returned_orders methods has 'AND RETURNED = 1' in SQL Command here\n",
        "        (self.unique_id, )\n",
        "      )\n",
        "      rows = cursor.fetchall()\n",
        "      for row in rows:\n",
        "        table = table.append(pd.Series(list(row)), ignore_index=True)\n",
        "      table.columns = (['Order_Number',\n",
        "                      'Customer_ID',\n",
        "                      'Order_Date',\n",
        "                      'Delivery_Address', \n",
        "                      'Latest_Delivery_Date',\n",
        "                      'Product',\n",
        "                      'Quantity',\n",
        "                      'Free_Return_Date',\n",
        "                      'Returned',\n",
        "                      'Returned_Date'])\n",
        "      table.Customer_ID = table.Customer_ID.astype('int')\n",
        "      table.Returned = table.Returned.astype('int')\n",
        "      return table\n",
        "\n",
        "  def view_returned_orders(self):\n",
        "    if self.loggedin != True:\n",
        "      print('Please login.')\n",
        "      return\n",
        "\n",
        "    else:\n",
        "      table = pd.DataFrame()\n",
        "      connection = sqlite3.connect('shoe_shop.db')\n",
        "      cursor = connection.cursor()\n",
        "      cursor.execute('''\n",
        "        SELECT *\n",
        "        FROM Orders\n",
        "        WHERE Customer_ID = ?\n",
        "        AND RETURNED = 1\n",
        "        ''',\n",
        "        (self.unique_id, )\n",
        "      )\n",
        "      rows = cursor.fetchall()\n",
        "      for row in rows:\n",
        "        table = table.append(pd.Series(list(row)), ignore_index=True)\n",
        "      table.columns = (['Order_Number',\n",
        "                      'Customer_ID',\n",
        "                      'Order_Date',\n",
        "                      'Delivery_Address', \n",
        "                      'Latest_Delivery_Date',\n",
        "                      'Product',\n",
        "                      'Quantity',\n",
        "                      'Free_Return_Date',\n",
        "                      'Returned',\n",
        "                      'Returned_Date'])\n",
        "      table.Customer_ID = table.Customer_ID.astype('int')\n",
        "      table.Returned = table.Returned.astype('int')\n",
        "      return table\n",
        "\n"
      ],
      "metadata": {
        "id": "spr8qjD7PxFZ"
      },
      "execution_count": null,
      "outputs": []
    },
    {
      "cell_type": "code",
      "source": [
        "class PremiumCustomer(Customer):\n",
        "\n",
        "  def __init__(self, username, password, delivery_address, contact_info, bank_detail):\n",
        "    super().__init__(username, password, delivery_address, contact_info, bank_detail)\n",
        "    connection = sqlite3.connect('shoe_shop.db')\n",
        "    cursor = connection.cursor()\n",
        "    cursor.execute('''\n",
        "      UPDATE Customers\n",
        "      SET max_returns_per_month = 4\n",
        "      WHERE username = ?\n",
        "    ''',\n",
        "    (username, )\n",
        "    )\n",
        "    connection.commit()\n",
        "    connection.close()\n"
      ],
      "metadata": {
        "id": "AresEMvPUaKT"
      },
      "execution_count": null,
      "outputs": []
    },
    {
      "cell_type": "code",
      "source": [
        "def create_account(username, password, delivery_address, contact_info, bank_detail, premium=False):\n",
        "  if premium:\n",
        "    return PremiumCustomer(username, password, delivery_address, contact_info, bank_detail)\n",
        "  else:\n",
        "    return Customer(username, password, delivery_address, contact_info, bank_detail)"
      ],
      "metadata": {
        "id": "oHOU2dw57TE-"
      },
      "execution_count": null,
      "outputs": []
    },
    {
      "cell_type": "code",
      "source": [
        "alex = create_account('alex.mcl@yahoo.com', 'Password1', '44 Loopland Rd', 7538933232, 4554)\n",
        "george = create_account('george@yahoo.com', 'Password2', '16 Botanic Avenue', 32423849823, 3476347)\n",
        "gaffer = create_account('gaffer2@yahoo.com', 'Password4', '10a Lockview Road', 3792374982, 455645, premium=True)"
      ],
      "metadata": {
        "id": "AKMgYf-veO_7"
      },
      "execution_count": null,
      "outputs": []
    },
    {
      "cell_type": "code",
      "source": [
        "alex1 = create_account('alex.mcl@yahoo.com', 'Password1', '44 Loopland Rd', 7538933232, 4554)"
      ],
      "metadata": {
        "colab": {
          "base_uri": "https://localhost:8080/"
        },
        "id": "SxNCyVC7fVvW",
        "outputId": "2c8c5db0-147c-445b-c039-53f49b350eb8"
      },
      "execution_count": null,
      "outputs": [
        {
          "output_type": "stream",
          "name": "stdout",
          "text": [
            "Username already registered please login.\n"
          ]
        }
      ]
    },
    {
      "cell_type": "code",
      "source": [
        "alex.login('george@yahoo.com', 'Password1')\n",
        "george.login('george@yahoo.com', 'Password1')\n",
        "george.login('george@yahoo.com', 'Password2')"
      ],
      "metadata": {
        "colab": {
          "base_uri": "https://localhost:8080/"
        },
        "id": "ibcucxJ6lxp9",
        "outputId": "da3a3dfc-69f6-4395-e34f-68d828ac93d7"
      },
      "execution_count": null,
      "outputs": [
        {
          "output_type": "stream",
          "name": "stdout",
          "text": [
            "Username not recognised.\n",
            "Incorrect Password Entered.\n",
            "Login successful\n"
          ]
        }
      ]
    },
    {
      "cell_type": "code",
      "source": [
        "george.search('clogs')\n",
        "alex.search('slippers')"
      ],
      "metadata": {
        "colab": {
          "base_uri": "https://localhost:8080/"
        },
        "id": "DcTMJLeWjXZ1",
        "outputId": "723612dc-1a07-4437-bdef-29a1cacc460d"
      },
      "execution_count": null,
      "outputs": [
        {
          "output_type": "stream",
          "name": "stdout",
          "text": [
            "clogs .................... stock: 100\n",
            "Please login to account.\n"
          ]
        }
      ]
    },
    {
      "cell_type": "code",
      "source": [
        "george.logout()\n",
        "alex.logout()"
      ],
      "metadata": {
        "colab": {
          "base_uri": "https://localhost:8080/"
        },
        "id": "I1ocrn7nkdfs",
        "outputId": "8ed896a8-4dc4-4d36-dfa3-68accccea19e"
      },
      "execution_count": null,
      "outputs": [
        {
          "output_type": "stream",
          "name": "stdout",
          "text": [
            "Logout Successful\n",
            "Not logged in\n"
          ]
        }
      ]
    },
    {
      "cell_type": "code",
      "source": [
        "george.login('george@yahoo.com', 'Password2')"
      ],
      "metadata": {
        "colab": {
          "base_uri": "https://localhost:8080/"
        },
        "id": "sNmeNlRppTz6",
        "outputId": "d9614242-10b8-4a1c-a126-bdde32c48b4a"
      },
      "execution_count": null,
      "outputs": [
        {
          "output_type": "stream",
          "name": "stdout",
          "text": [
            "Login successful\n"
          ]
        }
      ]
    },
    {
      "cell_type": "code",
      "source": [
        "george.search('a')\n",
        "print('-'*38)\n",
        "george.search('slip')\n"
      ],
      "metadata": {
        "colab": {
          "base_uri": "https://localhost:8080/"
        },
        "id": "rDSiIlLypLzL",
        "outputId": "f93b881b-0d92-48a4-8c68-86bbc6f49560"
      },
      "execution_count": null,
      "outputs": [
        {
          "output_type": "stream",
          "name": "stdout",
          "text": [
            "sandles .................. stock: 100\n",
            "boaters .................. stock: 100\n",
            "trainers ................. stock: 100\n",
            "moccasins ................ stock: 100\n",
            "--------------------------------------\n",
            "slippers ................. stock: 200\n"
          ]
        }
      ]
    },
    {
      "cell_type": "code",
      "source": [
        "george.search('slippers', buy=True, quantity = 2)"
      ],
      "metadata": {
        "colab": {
          "base_uri": "https://localhost:8080/"
        },
        "id": "jnhL9rrL8P1s",
        "outputId": "646e8cd2-2074-4068-d6b8-02e69e113494"
      },
      "execution_count": null,
      "outputs": [
        {
          "output_type": "stream",
          "name": "stdout",
          "text": [
            "slippers ................. stock: 200\n",
            "Order Recieved\n",
            "\n",
            "*************************************************\n",
            "*************************************************\n",
            "Bill --------------------------------------------\n",
            "*************************************************\n",
            "\n",
            "Order Number: ............................... Od0\n",
            "Item: .................................. slippers\n",
            "Quantity: ..................................... 2\n",
            "Price: ..................................... £ 24\n",
            "*************************************************\n",
            "Order to be delivered by:     2022-05-26 10:21:54\n",
            "Free returns avialable until: 2022-05-30 10:21:54\n",
            "\n",
            "*************************************************\n",
            "*************************************************\n"
          ]
        }
      ]
    },
    {
      "cell_type": "code",
      "source": [
        "alex.search('boat')\n",
        "george.search('boat')\n",
        "george.search('slip', buy=True)\n",
        "print('-'*38)\n",
        "george.search('slippers', buy=True)\n",
        "print('-'*38)\n",
        "george.search('slippers', buy=True, quantity = 2)"
      ],
      "metadata": {
        "colab": {
          "base_uri": "https://localhost:8080/"
        },
        "id": "7-xr9G6Cv6nh",
        "outputId": "35987102-99e5-4a31-9d1c-1e93fe36879f"
      },
      "execution_count": null,
      "outputs": [
        {
          "output_type": "stream",
          "name": "stdout",
          "text": [
            "Please login to account.\n",
            "boaters .................. stock: 100\n",
            "slippers ................. stock: 198\n",
            "Please type shoe type as listed to purchase.\n",
            "--------------------------------------\n",
            "slippers ................. stock: 198\n",
            "please select quantity\n",
            "--------------------------------------\n",
            "slippers ................. stock: 198\n",
            "Order Recieved\n",
            "\n",
            "*************************************************\n",
            "*************************************************\n",
            "Bill --------------------------------------------\n",
            "*************************************************\n",
            "\n",
            "Order Number: ............................... Od1\n",
            "Item: .................................. slippers\n",
            "Quantity: ..................................... 2\n",
            "Price: ..................................... £ 24\n",
            "*************************************************\n",
            "Order to be delivered by:     2022-05-26 10:21:54\n",
            "Free returns avialable until: 2022-05-30 10:21:54\n",
            "\n",
            "*************************************************\n",
            "*************************************************\n"
          ]
        }
      ]
    },
    {
      "cell_type": "code",
      "source": [
        "gaffer.buy_shoes('clogs', quantity=10)\n",
        "george.buy_shoes('clogs')"
      ],
      "metadata": {
        "colab": {
          "base_uri": "https://localhost:8080/"
        },
        "id": "hLWL1jXsGpvu",
        "outputId": "dad6a6e0-6ee7-428e-a204-2c936a2afaf5"
      },
      "execution_count": null,
      "outputs": [
        {
          "output_type": "stream",
          "name": "stdout",
          "text": [
            "Please login.\n",
            "Order Recieved\n",
            "\n",
            "*************************************************\n",
            "*************************************************\n",
            "Bill --------------------------------------------\n",
            "*************************************************\n",
            "\n",
            "Order Number: ............................... Od2\n",
            "Item: ..................................... clogs\n",
            "Quantity: ..................................... 1\n",
            "Price: ..................................... £ 23\n",
            "*************************************************\n",
            "Order to be delivered by:     2022-05-26 10:21:54\n",
            "Free returns avialable until: 2022-05-30 10:21:54\n",
            "\n",
            "*************************************************\n",
            "*************************************************\n"
          ]
        }
      ]
    },
    {
      "cell_type": "code",
      "source": [
        "gaffer.login('gaffer2@yahoo.com', 'Password4')"
      ],
      "metadata": {
        "colab": {
          "base_uri": "https://localhost:8080/"
        },
        "id": "ky5PkkcIOzUj",
        "outputId": "14dbb7cb-f846-454d-be06-cbe20af4cc49"
      },
      "execution_count": null,
      "outputs": [
        {
          "output_type": "stream",
          "name": "stdout",
          "text": [
            "Login successful\n"
          ]
        }
      ]
    },
    {
      "cell_type": "code",
      "source": [
        "gaffer.buy_shoes('sandles', 200)"
      ],
      "metadata": {
        "colab": {
          "base_uri": "https://localhost:8080/"
        },
        "id": "l6xyysowPLI_",
        "outputId": "6b77ccc1-e7bc-4004-8888-b3a70e2d7f72"
      },
      "execution_count": null,
      "outputs": [
        {
          "output_type": "stream",
          "name": "stdout",
          "text": [
            "Not enough stock available.\n",
            "Max order: 100\n"
          ]
        }
      ]
    },
    {
      "cell_type": "code",
      "source": [
        "gaffer.buy_shoes('sandles', 2)"
      ],
      "metadata": {
        "colab": {
          "base_uri": "https://localhost:8080/"
        },
        "id": "pRrwQdsePOB8",
        "outputId": "bcef1fc4-a732-407e-bdfa-7e4b88c1b96e"
      },
      "execution_count": null,
      "outputs": [
        {
          "output_type": "stream",
          "name": "stdout",
          "text": [
            "Order Recieved\n",
            "\n",
            "*************************************************\n",
            "*************************************************\n",
            "Bill --------------------------------------------\n",
            "*************************************************\n",
            "\n",
            "Order Number: ............................... Od3\n",
            "Item: ................................... sandles\n",
            "Quantity: ..................................... 2\n",
            "Price: ..................................... £ 40\n",
            "*************************************************\n",
            "Order to be delivered by:     2022-05-26 10:21:54\n",
            "Free returns avialable until: 2022-05-30 10:21:54\n",
            "\n",
            "*************************************************\n",
            "*************************************************\n"
          ]
        }
      ]
    },
    {
      "cell_type": "code",
      "source": [
        "gaffer.buy_shoes('sand', 1)"
      ],
      "metadata": {
        "colab": {
          "base_uri": "https://localhost:8080/"
        },
        "outputId": "69f6819f-37af-47bd-f91f-7a207ea6fde8",
        "id": "fLRLuClA8vaW"
      },
      "execution_count": null,
      "outputs": [
        {
          "output_type": "stream",
          "name": "stdout",
          "text": [
            "Please type shoe type as listed to purchase.\n"
          ]
        }
      ]
    },
    {
      "cell_type": "code",
      "source": [
        "gaffer.return_product('Od2')"
      ],
      "metadata": {
        "colab": {
          "base_uri": "https://localhost:8080/"
        },
        "id": "hymVIt71S8xS",
        "outputId": "39bd73ee-1565-4759-8f24-8fed56f5c0cf"
      },
      "execution_count": null,
      "outputs": [
        {
          "output_type": "stream",
          "name": "stdout",
          "text": [
            "Unable to find order.\n"
          ]
        }
      ]
    },
    {
      "cell_type": "code",
      "source": [
        "alex.login('alex.mcl@yahoo.com', 'Password1')\n",
        "alex.buy_shoes('boaters')"
      ],
      "metadata": {
        "colab": {
          "base_uri": "https://localhost:8080/"
        },
        "id": "FuQEBPk5UH09",
        "outputId": "f0c24eb0-ac94-490c-a60c-87f436fb9b65"
      },
      "execution_count": null,
      "outputs": [
        {
          "output_type": "stream",
          "name": "stdout",
          "text": [
            "Login successful\n",
            "Order Recieved\n",
            "\n",
            "*************************************************\n",
            "*************************************************\n",
            "Bill --------------------------------------------\n",
            "*************************************************\n",
            "\n",
            "Order Number: ............................... Od4\n",
            "Item: ................................... boaters\n",
            "Quantity: ..................................... 1\n",
            "Price: ..................................... £ 25\n",
            "*************************************************\n",
            "Order to be delivered by:     2022-05-26 10:21:54\n",
            "Free returns avialable until: 2022-05-30 10:21:54\n",
            "\n",
            "*************************************************\n",
            "*************************************************\n"
          ]
        }
      ]
    },
    {
      "cell_type": "code",
      "source": [
        "connection = sqlite3.connect('shoe_shop.db')\n",
        "cursor = connection.cursor()\n",
        "cursor.execute('''\n",
        "  UPDATE Orders\n",
        "  SET Free_Return_Date = '2022-05-17 12:30:00'\n",
        "  WHERE Order_Number = 'Od3'\n",
        "''')\n",
        "connection.commit()"
      ],
      "metadata": {
        "id": "otsGRQvMUh7e"
      },
      "execution_count": null,
      "outputs": []
    },
    {
      "cell_type": "code",
      "source": [
        "boaters.check_stock()"
      ],
      "metadata": {
        "colab": {
          "base_uri": "https://localhost:8080/"
        },
        "id": "KE27XpWElkrV",
        "outputId": "aa25ea1a-1d00-41e2-faa7-b77d7b48049d"
      },
      "execution_count": null,
      "outputs": [
        {
          "output_type": "execute_result",
          "data": {
            "text/plain": [
              "99"
            ]
          },
          "metadata": {},
          "execution_count": 64
        }
      ]
    },
    {
      "cell_type": "code",
      "source": [
        "gaffer.return_product('Od3')"
      ],
      "metadata": {
        "colab": {
          "base_uri": "https://localhost:8080/"
        },
        "id": "42845rFvVNxT",
        "outputId": "15a4ec5f-21ff-4147-d642-15fd3c84053f"
      },
      "execution_count": null,
      "outputs": [
        {
          "output_type": "stream",
          "name": "stdout",
          "text": [
            "Return Successful!\n",
            "£10 charge occured as not within the free returns period\n"
          ]
        }
      ]
    },
    {
      "cell_type": "code",
      "source": [
        "boaters.check_stock()"
      ],
      "metadata": {
        "colab": {
          "base_uri": "https://localhost:8080/"
        },
        "id": "SuSpKDXHloIl",
        "outputId": "8fb82b29-838d-4471-9597-3489666832fb"
      },
      "execution_count": null,
      "outputs": [
        {
          "output_type": "execute_result",
          "data": {
            "text/plain": [
              "99"
            ]
          },
          "metadata": {},
          "execution_count": 66
        }
      ]
    },
    {
      "cell_type": "code",
      "source": [
        "alex.return_product('Od3')"
      ],
      "metadata": {
        "colab": {
          "base_uri": "https://localhost:8080/"
        },
        "id": "eeeZJv_EfdiP",
        "outputId": "03eadca6-80c2-4d30-8d74-6a0c8e84b45d"
      },
      "execution_count": null,
      "outputs": [
        {
          "output_type": "stream",
          "name": "stdout",
          "text": [
            "Unable to find order.\n"
          ]
        }
      ]
    },
    {
      "cell_type": "code",
      "source": [
        "alex.buy_shoes('boaters')\n",
        "alex.buy_shoes('clogs')\n",
        "alex.buy_shoes('stilettos')"
      ],
      "metadata": {
        "colab": {
          "base_uri": "https://localhost:8080/"
        },
        "id": "1RGzeyOdZSxC",
        "outputId": "4d605db6-2563-40a9-f6dc-50987d5a0e86"
      },
      "execution_count": null,
      "outputs": [
        {
          "output_type": "stream",
          "name": "stdout",
          "text": [
            "Order Recieved\n",
            "\n",
            "*************************************************\n",
            "*************************************************\n",
            "Bill --------------------------------------------\n",
            "*************************************************\n",
            "\n",
            "Order Number: ............................... Od5\n",
            "Item: ................................... boaters\n",
            "Quantity: ..................................... 1\n",
            "Price: ..................................... £ 25\n",
            "*************************************************\n",
            "Order to be delivered by:     2022-05-26 10:21:54\n",
            "Free returns avialable until: 2022-05-30 10:21:54\n",
            "\n",
            "*************************************************\n",
            "*************************************************\n",
            "Order Recieved\n",
            "\n",
            "*************************************************\n",
            "*************************************************\n",
            "Bill --------------------------------------------\n",
            "*************************************************\n",
            "\n",
            "Order Number: ............................... Od6\n",
            "Item: ..................................... clogs\n",
            "Quantity: ..................................... 1\n",
            "Price: ..................................... £ 23\n",
            "*************************************************\n",
            "Order to be delivered by:     2022-05-26 10:21:54\n",
            "Free returns avialable until: 2022-05-30 10:21:54\n",
            "\n",
            "*************************************************\n",
            "*************************************************\n",
            "Order Recieved\n",
            "\n",
            "*************************************************\n",
            "*************************************************\n",
            "Bill --------------------------------------------\n",
            "*************************************************\n",
            "\n",
            "Order Number: ............................... Od7\n",
            "Item: ................................. stilettos\n",
            "Quantity: ..................................... 1\n",
            "Price: ..................................... £ 36\n",
            "*************************************************\n",
            "Order to be delivered by:     2022-05-26 10:21:54\n",
            "Free returns avialable until: 2022-05-30 10:21:54\n",
            "\n",
            "*************************************************\n",
            "*************************************************\n"
          ]
        }
      ]
    },
    {
      "cell_type": "code",
      "source": [
        "alex.return_product('Od4')"
      ],
      "metadata": {
        "colab": {
          "base_uri": "https://localhost:8080/"
        },
        "id": "Ewd2c2zvZxmO",
        "outputId": "f1379502-9d3d-48ed-bea8-30273fde32d3"
      },
      "execution_count": null,
      "outputs": [
        {
          "output_type": "stream",
          "name": "stdout",
          "text": [
            "Return Successful!\n",
            "No charge occured as within the free returns period\n"
          ]
        }
      ]
    },
    {
      "cell_type": "code",
      "source": [
        "alex.return_product('Od5')"
      ],
      "metadata": {
        "colab": {
          "base_uri": "https://localhost:8080/"
        },
        "id": "z7s7GpTFZ38L",
        "outputId": "6ffc47a4-e03c-4eb9-dd7e-cda2c2488552"
      },
      "execution_count": null,
      "outputs": [
        {
          "output_type": "stream",
          "name": "stdout",
          "text": [
            "Return Successful!\n",
            "No charge occured as within the free returns period\n"
          ]
        }
      ]
    },
    {
      "cell_type": "code",
      "source": [
        "alex.return_product('Od6')"
      ],
      "metadata": {
        "colab": {
          "base_uri": "https://localhost:8080/"
        },
        "id": "aqcKDty4KuFK",
        "outputId": "7471e24a-4e7a-4204-af0d-8d068573918e"
      },
      "execution_count": null,
      "outputs": [
        {
          "output_type": "stream",
          "name": "stdout",
          "text": [
            "Too many returns in past month.\n",
            "Unable to return this order.\n"
          ]
        }
      ]
    },
    {
      "cell_type": "code",
      "source": [
        "gaffer.return_product('Od10')"
      ],
      "metadata": {
        "colab": {
          "base_uri": "https://localhost:8080/"
        },
        "id": "azPCyu3naG6U",
        "outputId": "1eaedbc3-8f79-492b-8ca8-ffe79e57d3aa"
      },
      "execution_count": null,
      "outputs": [
        {
          "output_type": "stream",
          "name": "stdout",
          "text": [
            "Unable to find order.\n"
          ]
        }
      ]
    },
    {
      "cell_type": "code",
      "source": [
        "alex.view_all_orders()"
      ],
      "metadata": {
        "colab": {
          "base_uri": "https://localhost:8080/",
          "height": 175
        },
        "id": "qxqeOlCipV6O",
        "outputId": "7904938d-bb34-4cc7-be10-2c7d68309106"
      },
      "execution_count": null,
      "outputs": [
        {
          "output_type": "execute_result",
          "data": {
            "text/plain": [
              "  Order_Number  Customer_ID           Order_Date Delivery_Address  \\\n",
              "0          Od4            0  2022-05-25 10:21:54   44 Loopland Rd   \n",
              "1          Od5            0  2022-05-25 10:21:54   44 Loopland Rd   \n",
              "2          Od6            0  2022-05-25 10:21:54   44 Loopland Rd   \n",
              "3          Od7            0  2022-05-25 10:21:54   44 Loopland Rd   \n",
              "\n",
              "  Latest_Delivery_Date    Product  Quantity     Free_Return_Date  Returned  \\\n",
              "0  2022-05-26 10:21:54    boaters       1.0  2022-05-30 10:21:54         1   \n",
              "1  2022-05-26 10:21:54    boaters       1.0  2022-05-30 10:21:54         1   \n",
              "2  2022-05-26 10:21:54      clogs       1.0  2022-05-30 10:21:54         0   \n",
              "3  2022-05-26 10:21:54  stilettos       1.0  2022-05-30 10:21:54         0   \n",
              "\n",
              "         Returned_Date  \n",
              "0  2022-05-25 10:21:54  \n",
              "1  2022-05-25 10:21:54  \n",
              "2                  N/A  \n",
              "3                  N/A  "
            ],
            "text/html": [
              "\n",
              "  <div id=\"df-4df5b123-6f88-42fb-93b5-fdef55fb873d\">\n",
              "    <div class=\"colab-df-container\">\n",
              "      <div>\n",
              "<style scoped>\n",
              "    .dataframe tbody tr th:only-of-type {\n",
              "        vertical-align: middle;\n",
              "    }\n",
              "\n",
              "    .dataframe tbody tr th {\n",
              "        vertical-align: top;\n",
              "    }\n",
              "\n",
              "    .dataframe thead th {\n",
              "        text-align: right;\n",
              "    }\n",
              "</style>\n",
              "<table border=\"1\" class=\"dataframe\">\n",
              "  <thead>\n",
              "    <tr style=\"text-align: right;\">\n",
              "      <th></th>\n",
              "      <th>Order_Number</th>\n",
              "      <th>Customer_ID</th>\n",
              "      <th>Order_Date</th>\n",
              "      <th>Delivery_Address</th>\n",
              "      <th>Latest_Delivery_Date</th>\n",
              "      <th>Product</th>\n",
              "      <th>Quantity</th>\n",
              "      <th>Free_Return_Date</th>\n",
              "      <th>Returned</th>\n",
              "      <th>Returned_Date</th>\n",
              "    </tr>\n",
              "  </thead>\n",
              "  <tbody>\n",
              "    <tr>\n",
              "      <th>0</th>\n",
              "      <td>Od4</td>\n",
              "      <td>0</td>\n",
              "      <td>2022-05-25 10:21:54</td>\n",
              "      <td>44 Loopland Rd</td>\n",
              "      <td>2022-05-26 10:21:54</td>\n",
              "      <td>boaters</td>\n",
              "      <td>1.0</td>\n",
              "      <td>2022-05-30 10:21:54</td>\n",
              "      <td>1</td>\n",
              "      <td>2022-05-25 10:21:54</td>\n",
              "    </tr>\n",
              "    <tr>\n",
              "      <th>1</th>\n",
              "      <td>Od5</td>\n",
              "      <td>0</td>\n",
              "      <td>2022-05-25 10:21:54</td>\n",
              "      <td>44 Loopland Rd</td>\n",
              "      <td>2022-05-26 10:21:54</td>\n",
              "      <td>boaters</td>\n",
              "      <td>1.0</td>\n",
              "      <td>2022-05-30 10:21:54</td>\n",
              "      <td>1</td>\n",
              "      <td>2022-05-25 10:21:54</td>\n",
              "    </tr>\n",
              "    <tr>\n",
              "      <th>2</th>\n",
              "      <td>Od6</td>\n",
              "      <td>0</td>\n",
              "      <td>2022-05-25 10:21:54</td>\n",
              "      <td>44 Loopland Rd</td>\n",
              "      <td>2022-05-26 10:21:54</td>\n",
              "      <td>clogs</td>\n",
              "      <td>1.0</td>\n",
              "      <td>2022-05-30 10:21:54</td>\n",
              "      <td>0</td>\n",
              "      <td>N/A</td>\n",
              "    </tr>\n",
              "    <tr>\n",
              "      <th>3</th>\n",
              "      <td>Od7</td>\n",
              "      <td>0</td>\n",
              "      <td>2022-05-25 10:21:54</td>\n",
              "      <td>44 Loopland Rd</td>\n",
              "      <td>2022-05-26 10:21:54</td>\n",
              "      <td>stilettos</td>\n",
              "      <td>1.0</td>\n",
              "      <td>2022-05-30 10:21:54</td>\n",
              "      <td>0</td>\n",
              "      <td>N/A</td>\n",
              "    </tr>\n",
              "  </tbody>\n",
              "</table>\n",
              "</div>\n",
              "      <button class=\"colab-df-convert\" onclick=\"convertToInteractive('df-4df5b123-6f88-42fb-93b5-fdef55fb873d')\"\n",
              "              title=\"Convert this dataframe to an interactive table.\"\n",
              "              style=\"display:none;\">\n",
              "        \n",
              "  <svg xmlns=\"http://www.w3.org/2000/svg\" height=\"24px\"viewBox=\"0 0 24 24\"\n",
              "       width=\"24px\">\n",
              "    <path d=\"M0 0h24v24H0V0z\" fill=\"none\"/>\n",
              "    <path d=\"M18.56 5.44l.94 2.06.94-2.06 2.06-.94-2.06-.94-.94-2.06-.94 2.06-2.06.94zm-11 1L8.5 8.5l.94-2.06 2.06-.94-2.06-.94L8.5 2.5l-.94 2.06-2.06.94zm10 10l.94 2.06.94-2.06 2.06-.94-2.06-.94-.94-2.06-.94 2.06-2.06.94z\"/><path d=\"M17.41 7.96l-1.37-1.37c-.4-.4-.92-.59-1.43-.59-.52 0-1.04.2-1.43.59L10.3 9.45l-7.72 7.72c-.78.78-.78 2.05 0 2.83L4 21.41c.39.39.9.59 1.41.59.51 0 1.02-.2 1.41-.59l7.78-7.78 2.81-2.81c.8-.78.8-2.07 0-2.86zM5.41 20L4 18.59l7.72-7.72 1.47 1.35L5.41 20z\"/>\n",
              "  </svg>\n",
              "      </button>\n",
              "      \n",
              "  <style>\n",
              "    .colab-df-container {\n",
              "      display:flex;\n",
              "      flex-wrap:wrap;\n",
              "      gap: 12px;\n",
              "    }\n",
              "\n",
              "    .colab-df-convert {\n",
              "      background-color: #E8F0FE;\n",
              "      border: none;\n",
              "      border-radius: 50%;\n",
              "      cursor: pointer;\n",
              "      display: none;\n",
              "      fill: #1967D2;\n",
              "      height: 32px;\n",
              "      padding: 0 0 0 0;\n",
              "      width: 32px;\n",
              "    }\n",
              "\n",
              "    .colab-df-convert:hover {\n",
              "      background-color: #E2EBFA;\n",
              "      box-shadow: 0px 1px 2px rgba(60, 64, 67, 0.3), 0px 1px 3px 1px rgba(60, 64, 67, 0.15);\n",
              "      fill: #174EA6;\n",
              "    }\n",
              "\n",
              "    [theme=dark] .colab-df-convert {\n",
              "      background-color: #3B4455;\n",
              "      fill: #D2E3FC;\n",
              "    }\n",
              "\n",
              "    [theme=dark] .colab-df-convert:hover {\n",
              "      background-color: #434B5C;\n",
              "      box-shadow: 0px 1px 3px 1px rgba(0, 0, 0, 0.15);\n",
              "      filter: drop-shadow(0px 1px 2px rgba(0, 0, 0, 0.3));\n",
              "      fill: #FFFFFF;\n",
              "    }\n",
              "  </style>\n",
              "\n",
              "      <script>\n",
              "        const buttonEl =\n",
              "          document.querySelector('#df-4df5b123-6f88-42fb-93b5-fdef55fb873d button.colab-df-convert');\n",
              "        buttonEl.style.display =\n",
              "          google.colab.kernel.accessAllowed ? 'block' : 'none';\n",
              "\n",
              "        async function convertToInteractive(key) {\n",
              "          const element = document.querySelector('#df-4df5b123-6f88-42fb-93b5-fdef55fb873d');\n",
              "          const dataTable =\n",
              "            await google.colab.kernel.invokeFunction('convertToInteractive',\n",
              "                                                     [key], {});\n",
              "          if (!dataTable) return;\n",
              "\n",
              "          const docLinkHtml = 'Like what you see? Visit the ' +\n",
              "            '<a target=\"_blank\" href=https://colab.research.google.com/notebooks/data_table.ipynb>data table notebook</a>'\n",
              "            + ' to learn more about interactive tables.';\n",
              "          element.innerHTML = '';\n",
              "          dataTable['output_type'] = 'display_data';\n",
              "          await google.colab.output.renderOutput(dataTable, element);\n",
              "          const docLink = document.createElement('div');\n",
              "          docLink.innerHTML = docLinkHtml;\n",
              "          element.appendChild(docLink);\n",
              "        }\n",
              "      </script>\n",
              "    </div>\n",
              "  </div>\n",
              "  "
            ]
          },
          "metadata": {},
          "execution_count": 73
        }
      ]
    },
    {
      "cell_type": "code",
      "source": [
        "alex.view_returned_orders()"
      ],
      "metadata": {
        "colab": {
          "base_uri": "https://localhost:8080/",
          "height": 112
        },
        "id": "0CTz41bLxSOt",
        "outputId": "6a141112-a499-4828-de5c-84950045c0a1"
      },
      "execution_count": null,
      "outputs": [
        {
          "output_type": "execute_result",
          "data": {
            "text/plain": [
              "  Order_Number  Customer_ID           Order_Date Delivery_Address  \\\n",
              "0          Od4            0  2022-05-25 10:21:54   44 Loopland Rd   \n",
              "1          Od5            0  2022-05-25 10:21:54   44 Loopland Rd   \n",
              "\n",
              "  Latest_Delivery_Date  Product  Quantity     Free_Return_Date  Returned  \\\n",
              "0  2022-05-26 10:21:54  boaters       1.0  2022-05-30 10:21:54         1   \n",
              "1  2022-05-26 10:21:54  boaters       1.0  2022-05-30 10:21:54         1   \n",
              "\n",
              "         Returned_Date  \n",
              "0  2022-05-25 10:21:54  \n",
              "1  2022-05-25 10:21:54  "
            ],
            "text/html": [
              "\n",
              "  <div id=\"df-416c1c00-22f9-498b-9635-13b2733b23db\">\n",
              "    <div class=\"colab-df-container\">\n",
              "      <div>\n",
              "<style scoped>\n",
              "    .dataframe tbody tr th:only-of-type {\n",
              "        vertical-align: middle;\n",
              "    }\n",
              "\n",
              "    .dataframe tbody tr th {\n",
              "        vertical-align: top;\n",
              "    }\n",
              "\n",
              "    .dataframe thead th {\n",
              "        text-align: right;\n",
              "    }\n",
              "</style>\n",
              "<table border=\"1\" class=\"dataframe\">\n",
              "  <thead>\n",
              "    <tr style=\"text-align: right;\">\n",
              "      <th></th>\n",
              "      <th>Order_Number</th>\n",
              "      <th>Customer_ID</th>\n",
              "      <th>Order_Date</th>\n",
              "      <th>Delivery_Address</th>\n",
              "      <th>Latest_Delivery_Date</th>\n",
              "      <th>Product</th>\n",
              "      <th>Quantity</th>\n",
              "      <th>Free_Return_Date</th>\n",
              "      <th>Returned</th>\n",
              "      <th>Returned_Date</th>\n",
              "    </tr>\n",
              "  </thead>\n",
              "  <tbody>\n",
              "    <tr>\n",
              "      <th>0</th>\n",
              "      <td>Od4</td>\n",
              "      <td>0</td>\n",
              "      <td>2022-05-25 10:21:54</td>\n",
              "      <td>44 Loopland Rd</td>\n",
              "      <td>2022-05-26 10:21:54</td>\n",
              "      <td>boaters</td>\n",
              "      <td>1.0</td>\n",
              "      <td>2022-05-30 10:21:54</td>\n",
              "      <td>1</td>\n",
              "      <td>2022-05-25 10:21:54</td>\n",
              "    </tr>\n",
              "    <tr>\n",
              "      <th>1</th>\n",
              "      <td>Od5</td>\n",
              "      <td>0</td>\n",
              "      <td>2022-05-25 10:21:54</td>\n",
              "      <td>44 Loopland Rd</td>\n",
              "      <td>2022-05-26 10:21:54</td>\n",
              "      <td>boaters</td>\n",
              "      <td>1.0</td>\n",
              "      <td>2022-05-30 10:21:54</td>\n",
              "      <td>1</td>\n",
              "      <td>2022-05-25 10:21:54</td>\n",
              "    </tr>\n",
              "  </tbody>\n",
              "</table>\n",
              "</div>\n",
              "      <button class=\"colab-df-convert\" onclick=\"convertToInteractive('df-416c1c00-22f9-498b-9635-13b2733b23db')\"\n",
              "              title=\"Convert this dataframe to an interactive table.\"\n",
              "              style=\"display:none;\">\n",
              "        \n",
              "  <svg xmlns=\"http://www.w3.org/2000/svg\" height=\"24px\"viewBox=\"0 0 24 24\"\n",
              "       width=\"24px\">\n",
              "    <path d=\"M0 0h24v24H0V0z\" fill=\"none\"/>\n",
              "    <path d=\"M18.56 5.44l.94 2.06.94-2.06 2.06-.94-2.06-.94-.94-2.06-.94 2.06-2.06.94zm-11 1L8.5 8.5l.94-2.06 2.06-.94-2.06-.94L8.5 2.5l-.94 2.06-2.06.94zm10 10l.94 2.06.94-2.06 2.06-.94-2.06-.94-.94-2.06-.94 2.06-2.06.94z\"/><path d=\"M17.41 7.96l-1.37-1.37c-.4-.4-.92-.59-1.43-.59-.52 0-1.04.2-1.43.59L10.3 9.45l-7.72 7.72c-.78.78-.78 2.05 0 2.83L4 21.41c.39.39.9.59 1.41.59.51 0 1.02-.2 1.41-.59l7.78-7.78 2.81-2.81c.8-.78.8-2.07 0-2.86zM5.41 20L4 18.59l7.72-7.72 1.47 1.35L5.41 20z\"/>\n",
              "  </svg>\n",
              "      </button>\n",
              "      \n",
              "  <style>\n",
              "    .colab-df-container {\n",
              "      display:flex;\n",
              "      flex-wrap:wrap;\n",
              "      gap: 12px;\n",
              "    }\n",
              "\n",
              "    .colab-df-convert {\n",
              "      background-color: #E8F0FE;\n",
              "      border: none;\n",
              "      border-radius: 50%;\n",
              "      cursor: pointer;\n",
              "      display: none;\n",
              "      fill: #1967D2;\n",
              "      height: 32px;\n",
              "      padding: 0 0 0 0;\n",
              "      width: 32px;\n",
              "    }\n",
              "\n",
              "    .colab-df-convert:hover {\n",
              "      background-color: #E2EBFA;\n",
              "      box-shadow: 0px 1px 2px rgba(60, 64, 67, 0.3), 0px 1px 3px 1px rgba(60, 64, 67, 0.15);\n",
              "      fill: #174EA6;\n",
              "    }\n",
              "\n",
              "    [theme=dark] .colab-df-convert {\n",
              "      background-color: #3B4455;\n",
              "      fill: #D2E3FC;\n",
              "    }\n",
              "\n",
              "    [theme=dark] .colab-df-convert:hover {\n",
              "      background-color: #434B5C;\n",
              "      box-shadow: 0px 1px 3px 1px rgba(0, 0, 0, 0.15);\n",
              "      filter: drop-shadow(0px 1px 2px rgba(0, 0, 0, 0.3));\n",
              "      fill: #FFFFFF;\n",
              "    }\n",
              "  </style>\n",
              "\n",
              "      <script>\n",
              "        const buttonEl =\n",
              "          document.querySelector('#df-416c1c00-22f9-498b-9635-13b2733b23db button.colab-df-convert');\n",
              "        buttonEl.style.display =\n",
              "          google.colab.kernel.accessAllowed ? 'block' : 'none';\n",
              "\n",
              "        async function convertToInteractive(key) {\n",
              "          const element = document.querySelector('#df-416c1c00-22f9-498b-9635-13b2733b23db');\n",
              "          const dataTable =\n",
              "            await google.colab.kernel.invokeFunction('convertToInteractive',\n",
              "                                                     [key], {});\n",
              "          if (!dataTable) return;\n",
              "\n",
              "          const docLinkHtml = 'Like what you see? Visit the ' +\n",
              "            '<a target=\"_blank\" href=https://colab.research.google.com/notebooks/data_table.ipynb>data table notebook</a>'\n",
              "            + ' to learn more about interactive tables.';\n",
              "          element.innerHTML = '';\n",
              "          dataTable['output_type'] = 'display_data';\n",
              "          await google.colab.output.renderOutput(dataTable, element);\n",
              "          const docLink = document.createElement('div');\n",
              "          docLink.innerHTML = docLinkHtml;\n",
              "          element.appendChild(docLink);\n",
              "        }\n",
              "      </script>\n",
              "    </div>\n",
              "  </div>\n",
              "  "
            ]
          },
          "metadata": {},
          "execution_count": 74
        }
      ]
    }
  ]
}